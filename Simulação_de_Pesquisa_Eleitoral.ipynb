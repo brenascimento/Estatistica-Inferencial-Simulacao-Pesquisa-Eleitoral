{
  "nbformat": 4,
  "nbformat_minor": 0,
  "metadata": {
    "colab": {
      "name": "Simulação de Pesquisa Eleitoral.ipynb",
      "provenance": [],
      "collapsed_sections": [],
      "authorship_tag": "ABX9TyOnSvYdmCecuZLP9cClbGBf",
      "include_colab_link": true
    },
    "kernelspec": {
      "name": "python3",
      "display_name": "Python 3"
    },
    "language_info": {
      "name": "python"
    }
  },
  "cells": [
    {
      "cell_type": "markdown",
      "metadata": {
        "id": "view-in-github",
        "colab_type": "text"
      },
      "source": [
        "<a href=\"https://colab.research.google.com/github/momentoinesquecivel/Estatistica-Inferencial-Simulacao-Pesquisa-Eleitoral/blob/main/Simula%C3%A7%C3%A3o_de_Pesquisa_Eleitoral.ipynb\" target=\"_parent\"><img src=\"https://colab.research.google.com/assets/colab-badge.svg\" alt=\"Open In Colab\"/></a>"
      ]
    },
    {
      "cell_type": "markdown",
      "source": [
        "# Metaverso Eleitoral\n",
        "\n",
        " A Estatística Inferêncial é a meneira de inferenciar, ou seja, dar a conclusão sobre uma determinada pesquisa populacional usando uma amostra dessa população.\n",
        "\n",
        "[Exemplo](https://profes.com.br/aulasdeestatistica/blog/o-que-e-estatistica-inferencial): Se eu quero saber se a sopa está boa. Primeiro eu tiro uma concha da sopa(amostra), então eu provo, se a parte que eu peguei da sopa está boa, eu consigo dizer que toda a panela de sopa(população) está boa, e isso é inferência.\n",
        "\n",
        "Neste projeto, iremos fazer uma estatística inferêncial usando dados \"fakes\"(Metaverso Eleitoral) para mostrar como é feito uma pesquisa eleitoral, já que a eleição está tão próxima. \n",
        "\n",
        "Então iremos analisar como podemos chegar em uma conclusão populacional confiante sobre determinadas pesquisas eleitorais, baseando-se em:\n",
        "1. <strong>Amostras</strong>.\n",
        "  Uma parte da população\n",
        "2. <strong>Margem de erro</strong>. \n",
        "  É até onde nossa pesquisa pode \"errar\", ex: 50% com margem de erro de 2%, nossa pesquisa está entre 48% a 52%.\n",
        "3. <strong>Intervalo de Confiança</strong>.\n",
        "  É um intervalo de certeza onde há uma proporção(geralmente, 95%) da população que estára dentro da margem de erro. Ex: Se o intervalo de confiança for de 95% com a margem de erro de 2% para 50% da proporção de escolha da nossa amostra, então 95% da população estará entre 47% a 52% e as outras 5% estará fora da margem.\n",
        "\n",
        "Quanto maior a margem de erro for, menos amostras iremos precisar para \"concluir\" a pesquisa. Pois estamos aceitando mais erros\n",
        "\n",
        "Quanto menor a margem de erro, mais amostras é necessária para concluir a pesquisa.\n",
        "\n",
        "Projeto by [canal FLAI](https://www.youtube.com/watch?v=kXNp71zhSlo&t=2s)"
      ],
      "metadata": {
        "id": "WO03QS3YEiSR"
      }
    },
    {
      "cell_type": "markdown",
      "source": [
        "## Gerar nossa população"
      ],
      "metadata": {
        "id": "hG6R03whJD_g"
      }
    },
    {
      "cell_type": "code",
      "source": [
        "import numpy as np"
      ],
      "metadata": {
        "id": "DzQHQVKoJ-Me"
      },
      "execution_count": 1,
      "outputs": []
    },
    {
      "cell_type": "code",
      "source": [
        "n = 150000000\n",
        "candidatos = ['A', 'B', 'C', 'D']\n",
        "# para cada candidato, uma proporção das inteções de voto. Para ter controle do \n",
        "# experimento, e ver se nossa simulação está de acordo.\n",
        "real_proporcao = [0.25, 0.20, 0.40, 0.15]\n",
        "\n",
        "# para agilizar o processo de proporcao amostral, utilizarei o numpy.\n",
        "real_proporcao = np.array(real_proporcao)\n",
        "\n",
        "na, nb, nc, nd = (n*real_proporcao).astype(int)\n",
        "print(na, nb, nc, nd)\n"
      ],
      "metadata": {
        "colab": {
          "base_uri": "https://localhost:8080/"
        },
        "id": "4XDPXoWsEgf4",
        "outputId": "b7a87d3b-da04-460a-f99e-76528014b8ea"
      },
      "execution_count": 2,
      "outputs": [
        {
          "output_type": "stream",
          "name": "stdout",
          "text": [
            "37500000 30000000 60000000 22500000\n"
          ]
        }
      ]
    },
    {
      "cell_type": "markdown",
      "source": [
        " Criacao da população"
      ],
      "metadata": {
        "id": "4DF_WH8sMGEp"
      }
    },
    {
      "cell_type": "code",
      "source": [
        "populacao = ['A'] * na + ['B'] * nb + ['C'] * nc + ['D'] * nd"
      ],
      "metadata": {
        "id": "Uwbw4jrLKgLz"
      },
      "execution_count": 3,
      "outputs": []
    },
    {
      "cell_type": "markdown",
      "source": [
        "Importar random para tirar nossa amostra"
      ],
      "metadata": {
        "id": "GDC86q1SMCvx"
      }
    },
    {
      "cell_type": "code",
      "source": [
        "import random\n",
        "# 2% margem de erro\n",
        "margem_erro = 0.02\n",
        "\n",
        "tamanho_amostral = 2401\n",
        "simulacoes = 100\n",
        "resultados = []\n",
        "for i in range(simulacoes):\n",
        "  pesquisa = random.sample(populacao, k=tamanho_amostral)\n",
        "  a = pesquisa.count('A')/tamanho_amostral\n",
        "  b = pesquisa.count('B')/tamanho_amostral\n",
        "  c = pesquisa.count('C')/tamanho_amostral\n",
        "  d = pesquisa.count('D')/tamanho_amostral\n",
        "\n",
        "  erros = np.array([a, b, c, d]) - real_proporcao\n",
        "  todos = np.all(abs(erros[:2]) < margem_erro)\n",
        "  resultados.append(todos)\n",
        "\n",
        "# print(\"todos estão abaixo da margem de erro?\", todos)\n",
        "# print(pesquisa)\n",
        "# print(real_proporcao)\n",
        "# print(\"proporcao da pesquisa:\", a, b, c, d)\n",
        "# print(\"erro:\", erros)\n",
        "\n",
        "confianca = np.array(resultados).mean()\n",
        "\n",
        "print(\"resultado:\", resultados[:5], \"...\")\n",
        "print(\"intervalo de confianca:\", confianca)"
      ],
      "metadata": {
        "colab": {
          "base_uri": "https://localhost:8080/"
        },
        "id": "IUDEG6jXLrSW",
        "outputId": "c2b252a6-3456-43e2-b3e9-b97c62f2db7c"
      },
      "execution_count": 7,
      "outputs": [
        {
          "output_type": "stream",
          "name": "stdout",
          "text": [
            "resultado: [True, True, True, True, True] ...\n",
            "intervalo de confianca: 0.97\n"
          ]
        }
      ]
    },
    {
      "cell_type": "markdown",
      "source": [
        "# Conclusão\n",
        "\n",
        "Esta foi uma simulação de Pesquisa Eleitoral, em que montamos uma real proporção sobre os candidatos ficticios, definimos uma margem de erro, que é até quanto a nossa pesquisa pode errar. Também pudemos ver como é tirado o intervalo de confiança. Que é baseado na contagem de quantas pesquisas deram certo dentro da margem de erro com somente dois candidatos."
      ],
      "metadata": {
        "id": "jVTZJv0DUkvJ"
      }
    },
    {
      "cell_type": "code",
      "source": [
        ""
      ],
      "metadata": {
        "id": "CoTaiAwbeMIa"
      },
      "execution_count": null,
      "outputs": []
    }
  ]
}